{
 "cells": [
  {
   "cell_type": "markdown",
   "metadata": {},
   "source": [
    "# Forest Cover with decision trees and ensembles"
   ]
  },
  {
   "cell_type": "code",
   "execution_count": 1,
   "metadata": {},
   "outputs": [],
   "source": [
    "from sklearn import datasets\n",
    "from sklearn.model_selection import train_test_split\n",
    "from sklearn.tree import DecisionTreeClassifier\n",
    "import numpy as np"
   ]
  },
  {
   "cell_type": "code",
   "execution_count": 2,
   "metadata": {},
   "outputs": [],
   "source": [
    "covtype = datasets.fetch_covtype()\n",
    "X = covtype.data\n",
    "Y = covtype.target"
   ]
  },
  {
   "cell_type": "code",
   "execution_count": 3,
   "metadata": {},
   "outputs": [
    {
     "data": {
      "text/plain": [
       "((581012, 54), (581012,))"
      ]
     },
     "execution_count": 3,
     "metadata": {},
     "output_type": "execute_result"
    }
   ],
   "source": [
    "X.shape, Y.shape"
   ]
  },
  {
   "cell_type": "code",
   "execution_count": 4,
   "metadata": {},
   "outputs": [],
   "source": [
    "np.random.seed(0)\n",
    "perm = np.random.permutation(581012)\n",
    "trainx = X[perm[0:49500],:]\n",
    "trainy = Y[perm[0:49500]]\n",
    "valx = X[perm[49500:55000],:]\n",
    "valy = Y[perm[49500:55000]]\n",
    "testx = X[perm[55000:581012],:]\n",
    "testy = Y[perm[55000:581012]]"
   ]
  },
  {
   "cell_type": "code",
   "execution_count": 5,
   "metadata": {},
   "outputs": [
    {
     "data": {
      "text/plain": [
       "(17945, 24251, 3023, 254, 786, 1481, 1760)"
      ]
     },
     "execution_count": 5,
     "metadata": {},
     "output_type": "execute_result"
    }
   ],
   "source": [
    "sum(trainy==1), sum(trainy==2), sum(trainy==3), sum(trainy==4), sum(trainy==5), sum(trainy==6), sum(trainy==7)"
   ]
  },
  {
   "cell_type": "markdown",
   "metadata": {},
   "source": [
    "# Use of Decision tree"
   ]
  },
  {
   "cell_type": "code",
   "execution_count": 12,
   "metadata": {},
   "outputs": [
    {
     "name": "stdout",
     "output_type": "stream",
     "text": [
      "train acc.:0.9986464646464647\n",
      "val acc.:0.8363636363636363\n"
     ]
    }
   ],
   "source": [
    "tree = DecisionTreeClassifier(criterion='gini',max_depth=30, random_state=0)\n",
    "tree.fit(trainx, trainy)\n",
    "print('train acc.:' + str(tree.score(trainx, trainy)))\n",
    "print('val acc.:' + str(tree.score(valx, valy)))"
   ]
  },
  {
   "cell_type": "code",
   "execution_count": 13,
   "metadata": {},
   "outputs": [
    {
     "name": "stdout",
     "output_type": "stream",
     "text": [
      "test acc.:0.8325950738766416\n"
     ]
    }
   ],
   "source": [
    "print('test acc.:' + str(tree.score(testx, testy)))"
   ]
  },
  {
   "cell_type": "markdown",
   "metadata": {},
   "source": [
    "# Use of Bagging"
   ]
  },
  {
   "cell_type": "code",
   "execution_count": 14,
   "metadata": {},
   "outputs": [
    {
     "name": "stdout",
     "output_type": "stream",
     "text": [
      "train acc.:0.9986666666666667\n",
      "val acc.:0.8934545454545455\n"
     ]
    }
   ],
   "source": [
    "from sklearn.ensemble import BaggingClassifier\n",
    "tree = BaggingClassifier(n_estimators=20, random_state=0)\n",
    "tree.fit(trainx, trainy)\n",
    "print('train acc.:' + str(tree.score(trainx, trainy)))\n",
    "print('val acc.:' + str(tree.score(valx, valy)))"
   ]
  },
  {
   "cell_type": "code",
   "execution_count": 15,
   "metadata": {},
   "outputs": [
    {
     "name": "stdout",
     "output_type": "stream",
     "text": [
      "test acc.:0.8898789381230846\n"
     ]
    }
   ],
   "source": [
    "print('test acc.:' + str(tree.score(testx, testy)))"
   ]
  },
  {
   "cell_type": "markdown",
   "metadata": {},
   "source": [
    "# Use of AdaBoost"
   ]
  },
  {
   "cell_type": "code",
   "execution_count": 20,
   "metadata": {},
   "outputs": [
    {
     "name": "stdout",
     "output_type": "stream",
     "text": [
      "train acc.:1.0\n",
      "val acc.:0.8847272727272727\n"
     ]
    }
   ],
   "source": [
    "from sklearn.ensemble import AdaBoostClassifier\n",
    "dt = DecisionTreeClassifier(criterion='gini',max_depth=30, random_state=0)\n",
    "tree = AdaBoostClassifier(dt, n_estimators=10, random_state=0)\n",
    "tree.fit(trainx, trainy)\n",
    "print('train acc.:' + str(tree.score(trainx, trainy)))\n",
    "print('val acc.:' + str(tree.score(valx, valy)))"
   ]
  },
  {
   "cell_type": "code",
   "execution_count": 21,
   "metadata": {},
   "outputs": [
    {
     "name": "stdout",
     "output_type": "stream",
     "text": [
      "test acc.:0.8837421959955286\n"
     ]
    }
   ],
   "source": [
    "print('test acc.:' + str(tree.score(testx, testy)))"
   ]
  },
  {
   "cell_type": "markdown",
   "metadata": {},
   "source": [
    "# Use of Random Forest"
   ]
  },
  {
   "cell_type": "code",
   "execution_count": 28,
   "metadata": {},
   "outputs": [
    {
     "name": "stdout",
     "output_type": "stream",
     "text": [
      "train acc.:1.0\n",
      "val acc.:0.8823636363636363\n"
     ]
    }
   ],
   "source": [
    "from sklearn.ensemble import RandomForestClassifier\n",
    "tree = RandomForestClassifier(n_estimators=100, criterion='entropy', random_state=0)\n",
    "tree.fit(trainx, trainy)\n",
    "print('train acc.:' + str(tree.score(trainx, trainy)))\n",
    "print('val acc.:' + str(tree.score(valx, valy)))"
   ]
  },
  {
   "cell_type": "code",
   "execution_count": 29,
   "metadata": {},
   "outputs": [
    {
     "name": "stdout",
     "output_type": "stream",
     "text": [
      "test acc.:0.8861451829996274\n"
     ]
    }
   ],
   "source": [
    "print('test acc.:' + str(tree.score(testx, testy)))"
   ]
  },
  {
   "cell_type": "code",
   "execution_count": null,
   "metadata": {},
   "outputs": [],
   "source": []
  }
 ],
 "metadata": {
  "kernelspec": {
   "display_name": "Python 3",
   "language": "python",
   "name": "python3"
  },
  "language_info": {
   "codemirror_mode": {
    "name": "ipython",
    "version": 3
   },
   "file_extension": ".py",
   "mimetype": "text/x-python",
   "name": "python",
   "nbconvert_exporter": "python",
   "pygments_lexer": "ipython3",
   "version": "3.6.7"
  }
 },
 "nbformat": 4,
 "nbformat_minor": 2
}
