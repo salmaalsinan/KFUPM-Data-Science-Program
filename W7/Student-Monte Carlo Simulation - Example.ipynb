{
 "cells": [
  {
   "cell_type": "markdown",
   "metadata": {},
   "source": [
    "# Investment Strategy (Monte Carlo Simulation)\n",
    "\n",
    "## A Typical Trading Example\n",
    "Trading with Scott Trades:\n",
    "- Taking \\\\$7 per trade\n",
    "\n",
    "If you invest \\\\$1,000 per stock, you pay \\\\$7 for an entry and \\\\$7 for an exit. A total of \\\\$14. That is a 1.4\\% unavoidable cost.\n",
    "\n",
    "This means, in long term, your speculation in stocks should do better than 1.4\\% profit on average than your losses to have a successful investment.\n",
    "\n",
    "**Note:** Even with this small percentage of cost, the odds are already against you.\n",
    "\n",
    "<blockquote>\n",
    "<b>Gambler's Falacy:</b>\n",
    "No matter how many times you flip a coin, the next flip will always have the odds of 50-50. <i>Gambler's Falacy</i> is the trap when one thinks that if we flip the coin for a large number of times, somehow the odds will change.\n",
    "</blockquote>\n",
    "\n",
    "Continuing with the investment example with Scott Trades. Let us:\n",
    "- Assume that the odds of doubling your investment is 50-50.\n",
    "- Ignore the \\\\$7 per trade overhead\n",
    "\n",
    "We can simulate this by rolling a dice:"
   ]
  },
  {
   "cell_type": "code",
   "execution_count": null,
   "metadata": {},
   "outputs": [],
   "source": [
    "import random\n",
    "\n",
    "def rollDice():\n",
    "    roll = random.random()\n",
    "    if roll <= 0.49:\n",
    "        print 'WIN!',\n",
    "        return True\n",
    "    print 'lose',\n",
    "    return False\n",
    "\n",
    "for x in range(1,100):\n",
    "    result = rollDice() "
   ]
  },
  {
   "cell_type": "markdown",
   "metadata": {},
   "source": [
    "## Modeling Investment in Stocks\n",
    "**A Simple Investor** enters the market with:\n",
    "- An initial fund, say \\\\$10,000\n",
    "- Identifies the investment amount for each round\n",
    "- Identifies the number of times we want to invest (buy/sell), or **betting**"
   ]
  },
  {
   "cell_type": "code",
   "execution_count": null,
   "metadata": {},
   "outputs": [],
   "source": [
    "def simple_investor(funds, initial_investment, investment_count):\n",
    "    value = funds\n",
    "    investment = initial_investment\n",
    "    \n",
    "    currentInvestmentCounter = 0\n",
    "    \n",
    "    while currentInvestmentCounter < investment_count:\n",
    "        if rollDice():\n",
    "            value += investment\n",
    "        else:\n",
    "            value -= investment\n",
    "        currentInvestmentCounter += 1\n",
    "    print 'Funds:', value\n",
    "        \n",
    "\n",
    "simple_investor(10000, 100, 100)"
   ]
  },
  {
   "cell_type": "markdown",
   "metadata": {},
   "source": [
    "<blockquote>Did you feel the effec of the Gambler's Fallacy while inspecting the above output?</blockquote>\n",
    "\n",
    "Let us brush up code by removing print statements and make the simple_investor code return the funds available after completing all investment rounds. Also, let us take care of the case when an investor runs out of funds."
   ]
  },
  {
   "cell_type": "code",
   "execution_count": null,
   "metadata": {},
   "outputs": [],
   "source": [
    "def rollDice():\n",
    "    roll = random.random()\n",
    "    if roll <= 0.49:\n",
    "        return True\n",
    "    return False\n",
    "\n",
    "def simple_investor(funds, initial_investment, investment_count):\n",
    "    value = funds\n",
    "    investment = initial_investment\n",
    "    \n",
    "    currentInvestmentCounter = 0\n",
    "    \n",
    "    while currentInvestmentCounter < investment_count:\n",
    "        if rollDice():\n",
    "            value += investment\n",
    "        else:\n",
    "            value -= investment\n",
    "        currentInvestmentCounter += 1\n",
    "    if value < 0:\n",
    "        value = 'broke'\n",
    "    return value"
   ]
  },
  {
   "cell_type": "code",
   "execution_count": null,
   "metadata": {},
   "outputs": [],
   "source": [
    "for person in range(1, 20):\n",
    "    print 'Person', person, ':', simple_investor(10000, 100, 1000)"
   ]
  },
  {
   "cell_type": "markdown",
   "metadata": {},
   "source": [
    "#### Let us see how will 100 people do if they stayed in the market for 100 rounds."
   ]
  },
  {
   "cell_type": "code",
   "execution_count": null,
   "metadata": {},
   "outputs": [],
   "source": [
    "import matplotlib\n",
    "import matplotlib.pyplot as plt"
   ]
  },
  {
   "cell_type": "code",
   "execution_count": null,
   "metadata": {},
   "outputs": [],
   "source": [
    "def simple_investor(funds, initial_investment, investment_count):\n",
    "    value = funds\n",
    "    investment = initial_investment\n",
    "    \n",
    "    iX = []\n",
    "    vY = []\n",
    "    \n",
    "    currentInvestmentCounter = 1\n",
    "    \n",
    "    while currentInvestmentCounter <= investment_count:\n",
    "        if rollDice():\n",
    "            value += investment\n",
    "            iX.append(currentInvestmentCounter)\n",
    "            vY.append(value)\n",
    "        else:\n",
    "            value -= investment\n",
    "            iX.append(currentInvestmentCounter)\n",
    "            vY.append(value)\n",
    "        currentInvestmentCounter += 1\n",
    "    if value < 0:\n",
    "        value = 'broke'\n",
    "    plt.plot(iX, vY)\n",
    "    #return value\n",
    "    \n",
    "for person in range(1, 100):\n",
    "    simple_investor(10000, 100, 100) # 100 rounds\n",
    "\n",
    "plt.ylabel('Account Value')\n",
    "plt.xlabel('Investment Count')\n",
    "plt.show()"
   ]
  },
  {
   "cell_type": "markdown",
   "metadata": {},
   "source": [
    "#### Let us see how will 100 people do if they stay longer in the market"
   ]
  },
  {
   "cell_type": "code",
   "execution_count": null,
   "metadata": {},
   "outputs": [],
   "source": [
    "for person in range(1, 100):\n",
    "    simple_investor(10000, 100, 1000) # 1000 rounds\n",
    "\n",
    "plt.ylabel('Account Value')\n",
    "plt.xlabel('Investment Count')\n",
    "plt.show()"
   ]
  },
  {
   "cell_type": "markdown",
   "metadata": {},
   "source": [
    "#### Let us see how will 100 people do if they stay longer in the market"
   ]
  },
  {
   "cell_type": "code",
   "execution_count": null,
   "metadata": {},
   "outputs": [],
   "source": [
    "for person in range(1, 100):\n",
    "    simple_investor(10000, 100, 10000) # 10000 rounds\n",
    "\n",
    "plt.ylabel('Account Value')\n",
    "plt.xlabel('Investment Count')\n",
    "plt.show()"
   ]
  },
  {
   "cell_type": "markdown",
   "metadata": {},
   "source": [
    "#### How does this strategy of investment looks in the long term?"
   ]
  },
  {
   "cell_type": "code",
   "execution_count": null,
   "metadata": {},
   "outputs": [],
   "source": [
    "for person in range(1, 100):\n",
    "    simple_investor(10000, 100, 100000) # 100000 rounds\n",
    "\n",
    "plt.ylabel('Account Value')\n",
    "plt.xlabel('Investment Count')\n",
    "plt.show()"
   ]
  },
  {
   "cell_type": "markdown",
   "metadata": {},
   "source": [
    "### Let us Change our Strategy\n",
    "- Double the investment when we lose\n",
    "- Do regular investment when we win"
   ]
  },
  {
   "cell_type": "code",
   "execution_count": null,
   "metadata": {},
   "outputs": [],
   "source": [
    "def doubler_investor(funds, initial_investment, investment_count):\n",
    "    value = funds\n",
    "    investment = initial_investment\n",
    "   \n",
    "    iX = []\n",
    "    vY = []\n",
    "    \n",
    "    currentInvestmentCounter = 1\n",
    "    # The outcome of the previous investment (we start as a winner)\n",
    "    previousInvestment = 'win'\n",
    "    # keep track how much we invested in the previous invsetment\n",
    "    previousInvestmentAmount = initial_investment\n",
    "    \n",
    "    while currentInvestmentCounter <= investment_count:\n",
    "        if previousInvestment == 'win':\n",
    "            # print 'Won Last'\n",
    "            if rollDice():\n",
    "                value += investment\n",
    "                iX.append(currentInvestmentCounter)\n",
    "                vY.append(value)\n",
    "                # print value\n",
    "            else:\n",
    "                value -= investment\n",
    "                previousInvestment = 'loss'\n",
    "                # print value\n",
    "                previousInvestmentAmount = investment\n",
    "                iX.append(currentInvestmentCounter)\n",
    "                vY.append(value)\n",
    "                if value <= 0:\n",
    "                    # print 'We went broke after', currentInvestmentCounter, 'rounds'\n",
    "                    break\n",
    "        \n",
    "        elif previousInvestment == 'loss':\n",
    "            # print 'We lost the last one, so we will be smart and double'\n",
    "            if rollDice():\n",
    "                investment = previousInvestmentAmount * 2\n",
    "                if (value - investment) < 0:\n",
    "                    investment = value\n",
    "                # print 'we won', investment\n",
    "                value += investment\n",
    "                # print value\n",
    "                investment = initial_investment\n",
    "                previousInvestment = 'win'\n",
    "                iX.append(currentInvestmentCounter)\n",
    "                vY.append(value)\n",
    "            else:\n",
    "                investment = previousInvestmentAmount * 2\n",
    "                if (value - investment) < 0:\n",
    "                    investment = value\n",
    "                # print 'we lost', investment\n",
    "                value -= investment\n",
    "                previousInvestmentAmount = investment\n",
    "                iX.append(currentInvestmentCounter)\n",
    "                vY.append(value)\n",
    "                if value <= 0:\n",
    "                    # print 'We went broke after', currentInvestmentCounter, 'rounds'\n",
    "                    break\n",
    "                # print value\n",
    "                previousInvestment = 'loss'\n",
    "                \n",
    "        currentInvestmentCounter += 1\n",
    "        \n",
    "    # print value\n",
    "    plt.plot(iX, vY)             "
   ]
  },
  {
   "cell_type": "markdown",
   "metadata": {},
   "source": [
    "#### Let us see how a single invester will do"
   ]
  },
  {
   "cell_type": "code",
   "execution_count": null,
   "metadata": {},
   "outputs": [],
   "source": [
    "doubler_investor(10000, 100, 100)\n",
    "plt.show()"
   ]
  },
  {
   "cell_type": "markdown",
   "metadata": {},
   "source": [
    "#### What about some other investor using the same investment strategy?"
   ]
  },
  {
   "cell_type": "code",
   "execution_count": null,
   "metadata": {},
   "outputs": [],
   "source": [
    "doubler_investor(10000, 100, 100)\n",
    "plt.show()"
   ]
  },
  {
   "cell_type": "markdown",
   "metadata": {},
   "source": [
    "#### What about a third investor using the same investment strategy?"
   ]
  },
  {
   "cell_type": "code",
   "execution_count": null,
   "metadata": {},
   "outputs": [],
   "source": [
    "doubler_investor(10000, 100, 100)\n",
    "plt.show()"
   ]
  },
  {
   "cell_type": "markdown",
   "metadata": {},
   "source": [
    "##### Let us see how 100 people will do using this strategy"
   ]
  },
  {
   "cell_type": "code",
   "execution_count": null,
   "metadata": {},
   "outputs": [],
   "source": [
    "for person in range (1, 100):\n",
    "    doubler_investor(10000, 100, 100)\n",
    "plt.show()"
   ]
  },
  {
   "cell_type": "markdown",
   "metadata": {},
   "source": [
    "##### How about a 1000 investor?\n"
   ]
  },
  {
   "cell_type": "code",
   "execution_count": null,
   "metadata": {},
   "outputs": [],
   "source": [
    "for person in range (1, 100):\n",
    "    doubler_investor(10000, 100, 100)\n",
    "plt.show()"
   ]
  },
  {
   "cell_type": "markdown",
   "metadata": {},
   "source": [
    "##### What if 1,000 investors stayed longer in the game?"
   ]
  },
  {
   "cell_type": "code",
   "execution_count": null,
   "metadata": {},
   "outputs": [],
   "source": [
    "for person in range (1, 1000):\n",
    "    doubler_investor(10000, 100, 1000)\n",
    "plt.show()"
   ]
  },
  {
   "cell_type": "markdown",
   "metadata": {},
   "source": [
    "##### Let us count the survival and death rate"
   ]
  },
  {
   "cell_type": "code",
   "execution_count": null,
   "metadata": {},
   "outputs": [],
   "source": [
    "def doubler_investor(funds, initial_investment, investment_count):\n",
    "    value = funds\n",
    "    investment = initial_investment\n",
    "    global broke_count\n",
    "    \n",
    "    iX = []\n",
    "    vY = []\n",
    "    \n",
    "    currentInvestmentCounter = 1\n",
    "    # The outcome of the previous investment (we start as a winner)\n",
    "    previousInvestment = 'win'\n",
    "    # keep track how much we invested in the previous invsetment\n",
    "    previousInvestmentAmount = initial_investment\n",
    "    \n",
    "    while currentInvestmentCounter <= investment_count:\n",
    "        if previousInvestment == 'win':\n",
    "            # print 'Won Last'\n",
    "            if rollDice():\n",
    "                value += investment\n",
    "                iX.append(currentInvestmentCounter)\n",
    "                vY.append(value)\n",
    "                # print value\n",
    "            else:\n",
    "                value -= investment\n",
    "                previousInvestment = 'loss'\n",
    "                # print value\n",
    "                previousInvestmentAmount = investment\n",
    "                iX.append(currentInvestmentCounter)\n",
    "                vY.append(value)\n",
    "                if value <= 0:\n",
    "                    # print 'We went broke after', currentInvestmentCounter, 'rounds'\n",
    "                    broke_count += 1\n",
    "                    break\n",
    "        \n",
    "        elif previousInvestment == 'loss':\n",
    "            # print 'We lost the last one, so we will be smart and double'\n",
    "            if rollDice():\n",
    "                investment = previousInvestmentAmount * 2\n",
    "                if (value - investment) < 0:\n",
    "                    investment = value\n",
    "                # print 'we won', investment\n",
    "                value += investment\n",
    "                # print value\n",
    "                investment = initial_investment\n",
    "                previousInvestment = 'win'\n",
    "                iX.append(currentInvestmentCounter)\n",
    "                vY.append(value)\n",
    "            else:\n",
    "                investment = previousInvestmentAmount * 2\n",
    "                if (value - investment) < 0:\n",
    "                    investment = value\n",
    "                # print 'we lost', investment\n",
    "                value -= investment\n",
    "                previousInvestmentAmount = investment\n",
    "                iX.append(currentInvestmentCounter)\n",
    "                vY.append(value)\n",
    "                if value <= 0:\n",
    "                    # print 'We went broke after', currentInvestmentCounter, 'rounds'\n",
    "                    broke_count += 1\n",
    "                    break\n",
    "                # print value\n",
    "                previousInvestment = 'loss'\n",
    "                \n",
    "        currentInvestmentCounter += 1\n",
    "        \n",
    "    # print value\n",
    "    plt.plot(iX, vY)"
   ]
  },
  {
   "cell_type": "code",
   "execution_count": null,
   "metadata": {
    "scrolled": true
   },
   "outputs": [],
   "source": [
    "# initialize the 'global' variable\n",
    "broke_count = 0\n",
    "person_count = 1000\n",
    "for person in range (1, person_count):\n",
    "    doubler_investor(10000, 100, 1000)\n",
    "\n",
    "print 'death rate:', (broke_count/ float(person_count)) * 100.\n",
    "print 'survival rate:', 100. - (broke_count/ float(person_count)) * 100.\n",
    "\n",
    "plt.ylabel('Account Value')\n",
    "plt.xlabel('Inestment Count')\n",
    "plt.show()"
   ]
  },
  {
   "cell_type": "markdown",
   "metadata": {},
   "source": [
    "### Compare the Two Strategies"
   ]
  },
  {
   "cell_type": "code",
   "execution_count": null,
   "metadata": {},
   "outputs": [],
   "source": [
    "# define some constatns\n",
    "sampleSize = 1000\n",
    "startingFunds = 10000\n",
    "investmentSize = 100\n",
    "investmentCount = 10000\n",
    "\n",
    "for person in range(1, sampleSize):\n",
    "    simple_investor(startingFunds, investmentSize, investmentCount)\n",
    "    doubler_investor(startingFunds, investmentSize, investmentCount)\n",
    "    \n",
    "plt.ylabel('Account Value')\n",
    "plt.xlabel('Inestment Count')\n",
    "plt.show()"
   ]
  },
  {
   "cell_type": "code",
   "execution_count": null,
   "metadata": {},
   "outputs": [],
   "source": [
    "for person in range(1, sampleSize):\n",
    "    simple_investor(startingFunds, investmentSize, investmentCount)\n",
    "    doubler_investor(startingFunds, investmentSize, investmentCount)\n",
    "    \n",
    "plt.ylabel('Account Value')\n",
    "plt.xlabel('Inestment Count')\n",
    "plt.show()"
   ]
  },
  {
   "cell_type": "code",
   "execution_count": null,
   "metadata": {},
   "outputs": [],
   "source": [
    "for person in range(1, sampleSize):\n",
    "    simple_investor(startingFunds, investmentSize, investmentCount)\n",
    "    doubler_investor(startingFunds, investmentSize, investmentCount)\n",
    "    \n",
    "plt.ylabel('Account Value')\n",
    "plt.xlabel('Inestment Count')\n",
    "plt.show()"
   ]
  },
  {
   "cell_type": "code",
   "execution_count": null,
   "metadata": {},
   "outputs": [],
   "source": []
  }
 ],
 "metadata": {
  "kernelspec": {
   "display_name": "Python 2",
   "language": "python",
   "name": "python2"
  },
  "language_info": {
   "codemirror_mode": {
    "name": "ipython",
    "version": 2
   },
   "file_extension": ".py",
   "mimetype": "text/x-python",
   "name": "python",
   "nbconvert_exporter": "python",
   "pygments_lexer": "ipython2",
   "version": "2.7.16"
  }
 },
 "nbformat": 4,
 "nbformat_minor": 2
}
