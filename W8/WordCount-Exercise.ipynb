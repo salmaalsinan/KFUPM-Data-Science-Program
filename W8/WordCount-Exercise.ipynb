{
 "cells": [
  {
   "cell_type": "markdown",
   "metadata": {},
   "source": [
    "# The goal of these exercises is to get familiar with key-value RDDs"
   ]
  },
  {
   "cell_type": "markdown",
   "metadata": {},
   "source": [
    "# Cheat Sheet\n",
    "**Transformation operations:**\n",
    "- map: Takes a function as input and applies it to each element in the source RDD to create a new RDD\n",
    "- flatMap: Takes an input function, which returns a sequence for each input element passed to it returns a new RDD formed by flattening this collection of sequence\n",
    "- filter: Takes a Boolean function as input and applies it to each element in the source RDD to create a new RDD by selecting only those elements for which the input Boolean function returned true\n",
    "- distinct: The distinct method of an RDD returns a new RDD containing the distinct elements in the source RDD.\n",
    "- zip:takes an RDD as input and returns an RDD of pairs, where the first element in a pair is from the source RDD and second element is from the input RDD. Both the source RDD and the input RDD must have the same length.\n",
    "- groupBy: Groups the elements of an RDD according to a user specified criteria. In each returned pair, the first item is a key and the second item is a collection of the elements mapped to that key by the input function to the groupBy method.\n",
    "- sortBy: returns an RDD with sorted elements from the source RDD. It takes two input parameters. The first input is a function that generates a key for each element in the source RDD. The second argument allows you to specify ascending or descending order for sort.\n",
    "- sample: Returns a sampled subset of the source RDD. It takes three input parameters. The first parameter specifies the replacement strategy. The second parameter specifies the ratio of the sample size to source RDD size.\n",
    "- union: Return the union of this RDD and another one.\n",
    "- intersection: Return the intersection of this RDD and another one. The output will not contain any duplicate elements, even if the input RDDs did.\n",
    "\n",
    "**Transformation operations on (key, value) RDDs:**\n",
    "- keys: returns an RDD of only the keys in the source RDD.\n",
    "- values: returns an RDD of only the values in the source RDD.\n",
    "- mapValues: takes a function as input and applies it to each value in the source RDD.\n",
    "- join: takes an RDD of key-value pairs as input and performs an inner join on the source and input RDDs. It returns an RDD of pairs, where the first element in a pair is a key found in both source and input RDD and the second element is a tuple containing values mapped to that key in the source and input RDD. , also check rightOuterJoin, leftOuterJoin, fullOuterJoin\n",
    "- sampleByKey: returns a subset of the source RDD sampled by key. It takes the sampling rate for each key as input and returns a sample of the source RDD.\n",
    "- subtractByKey: takes an RDD of key-value pairs as input and returns an RDD of key-value pairs containing only those keys that exist in the source RDD, but not in the input RDD.\n",
    "- groupByKey: returns an RDD of pairs, where the first element in a pair is a key from the source RDD and the second element is a collection of all the values that have the same key.\n",
    "- reduceByKey: takes an associative binary operator as input and reduces values with the same key to a single value using the specified binary operator.\n",
    "- sortByKey: \n",
    "\n",
    "**Action operations:**\n",
    "- collect: Returns the elements in the source RDD as an array. **It can crash the driver program if called on a very large RDD.**\n",
    "- count: The count method returns a count of the elements in the source RDD.\n",
    "- countByValue: The countByValue method returns a count of each unique element in the source RDD\n",
    "- first: The first element in the source RDD.\n",
    "- max: Returns the largest element in an RDD. Similar idea for min\n",
    "- stdev: Compute the standard deviation of this RDD’s elements.\n",
    "- take: takes an integer N as input and returns an array containing the first N element in the source RDD.\n",
    "- takeOrdered: takes an integer N as input and returns an array containing the N smallest elements in the source RDD.\n",
    "- top: takes an integer N as input and returns an array containing the N largest elements in the source RDD.\n",
    "- reduce: aggregates the elements of the source RDD using an associative and commutative binary operator provided to it.\n",
    "\n",
    "**Action operations for (key,Value) RDDs:**\n",
    "- countByKey: counts the occurrences of each unique key in the source RDD.\n",
    "- lookup: takes a key as input and returns a sequence of all the values mapped to that key in the source RDD.\n",
    "- collectAsMap: same as collect but now using key to return the result as a map. If a key has more than one instance, only one of the instance is collected."
   ]
  },
  {
   "cell_type": "code",
   "execution_count": 2,
   "metadata": {},
   "outputs": [],
   "source": [
    "#start the SparkContext\n",
    "import findspark\n",
    "findspark.init()\n",
    "from pyspark import SparkContext\n",
    "sc=SparkContext(master=\"local[4]\")"
   ]
  },
  {
   "cell_type": "markdown",
   "metadata": {},
   "source": [
    "# 1. Word Count"
   ]
  },
  {
   "cell_type": "code",
   "execution_count": 10,
   "metadata": {},
   "outputs": [
    {
     "name": "stdout",
     "output_type": "stream",
     "text": [
      "Wall time: 35.2 ms\n"
     ]
    }
   ],
   "source": [
    "%%time\n",
    "text_file = sc.textFile(\"sonnet.txt\") # Moby-Dick.txt"
   ]
  },
  {
   "cell_type": "code",
   "execution_count": 14,
   "metadata": {},
   "outputs": [
    {
     "name": "stdout",
     "output_type": "stream",
     "text": [
      "Wall time: 35.2 ms\n"
     ]
    }
   ],
   "source": [
    "%%time\n",
    "# split line by spaces.\n",
    "\n",
    "#remove extra blank spaces (lambda x: x!='')\n",
    "\n",
    "# map word to (word,1)\n",
    "\n",
    "# count the number of occurances of each word.\n"
   ]
  },
  {
   "cell_type": "code",
   "execution_count": 15,
   "metadata": {},
   "outputs": [
    {
     "name": "stdout",
     "output_type": "stream",
     "text": [
      "Different words= 4904, total words= 17667, mean no. occurances per word=3.60\n",
      "Wall time: 5.98 s\n"
     ]
    }
   ],
   "source": [
    "%%time\n",
    "#execute the plan to count number of different words\n",
    "Count= None\n",
    "# find total words in the text file\n",
    "Sum=None\n",
    "print('Different words=%5.0f, total words=%6.0f, mean no. occurances per word=%4.2f'%(Count,Sum,float(Sum)/Count))"
   ]
  },
  {
   "cell_type": "markdown",
   "metadata": {},
   "source": [
    "# 2. Finding the most common words"
   ]
  },
  {
   "cell_type": "code",
   "execution_count": 17,
   "metadata": {},
   "outputs": [
    {
     "name": "stdout",
     "output_type": "stream",
     "text": [
      "Wall time: 992 µs\n"
     ]
    }
   ],
   "source": [
    "%%time\n",
    "# map words to (word,frequency) pair"
   ]
  },
  {
   "cell_type": "code",
   "execution_count": 18,
   "metadata": {},
   "outputs": [
    {
     "name": "stdout",
     "output_type": "stream",
     "text": [
      "Wall time: 30.3 ms\n"
     ]
    }
   ],
   "source": [
    "%%time\n",
    "# Count frequency of each word\n"
   ]
  },
  {
   "cell_type": "code",
   "execution_count": 19,
   "metadata": {},
   "outputs": [
    {
     "name": "stdout",
     "output_type": "stream",
     "text": [
      "Wall time: 5.92 s\n"
     ]
    }
   ],
   "source": [
    "%%time\n",
    "# sort the RDD by frequncy of a word as key and not the word itself\n"
   ]
  },
  {
   "cell_type": "code",
   "execution_count": 21,
   "metadata": {},
   "outputs": [
    {
     "name": "stdout",
     "output_type": "stream",
     "text": [
      "most common words\n",
      "356:\tthe\n",
      "349:\tof\n",
      "341:\tmy\n",
      "331:\tto\n",
      "326:\tI\n",
      "Wall time: 3.33 s\n"
     ]
    }
   ],
   "source": [
    "%%time\n",
    "# print the 5 most common words"
   ]
  },
  {
   "cell_type": "markdown",
   "metadata": {},
   "source": [
    "# 3. Extras\n",
    "You can try other stuff like:\n",
    "- Most common words having atleast 4 characters\n",
    "- Least common words starting with character 'a'\n",
    "- Most common words ending with 'ing'\n",
    "- Count words removing the stop-words like ['the', 'a', 'an', 'I', 'he', 'she', 'they', 'to', 'of', 'it', 'from', 'and', 'his', 'her'] and punctuations like ['.', ',', '(', ')', '\"', ''', ':', ';', '?', '!', '-']"
   ]
  },
  {
   "cell_type": "code",
   "execution_count": null,
   "metadata": {},
   "outputs": [],
   "source": []
  }
 ],
 "metadata": {
  "kernelspec": {
   "display_name": "Python 3",
   "language": "python",
   "name": "python3"
  },
  "language_info": {
   "codemirror_mode": {
    "name": "ipython",
    "version": 3
   },
   "file_extension": ".py",
   "mimetype": "text/x-python",
   "name": "python",
   "nbconvert_exporter": "python",
   "pygments_lexer": "ipython3",
   "version": "3.6.7"
  }
 },
 "nbformat": 4,
 "nbformat_minor": 2
}
