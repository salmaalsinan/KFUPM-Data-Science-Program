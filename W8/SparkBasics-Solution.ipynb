{
 "cells": [
  {
   "cell_type": "markdown",
   "metadata": {},
   "source": [
    "# The goal of these exercises is to get familiar with pyspark APIs"
   ]
  },
  {
   "cell_type": "markdown",
   "metadata": {},
   "source": [
    "# Cheat Sheet\n",
    "**Transformation operations:**\n",
    "- map: Takes a function as input and applies it to each element in the source RDD to create a new RDD\n",
    "- flatMap: Takes an input function, which returns a sequence for each input element passed to it returns a new RDD formed by flattening this collection of sequence\n",
    "- filter: Takes a Boolean function as input and applies it to each element in the source RDD to create a new RDD by selecting only those elements for which the input Boolean function returned true\n",
    "- distinct: The distinct method of an RDD returns a new RDD containing the distinct elements in the source RDD.\n",
    "- zip:takes an RDD as input and returns an RDD of pairs, where the first element in a pair is from the source RDD and second element is from the input RDD. Both the source RDD and the input RDD must have the same length.\n",
    "- groupBy: Groups the elements of an RDD according to a user specified criteria. In each returned pair, the first item is a key and the second item is a collection of the elements mapped to that key by the input function to the groupBy method.\n",
    "- sortBy: returns an RDD with sorted elements from the source RDD. It takes two input parameters. The first input is a function that generates a key for each element in the source RDD. The second argument allows you to specify ascending or descending order for sort.\n",
    "- sample: Returns a sampled subset of the source RDD. It takes three input parameters. The first parameter specifies the replacement strategy. The second parameter specifies the ratio of the sample size to source RDD size.\n",
    "- union: Return the union of this RDD and another one.\n",
    "- intersection: Return the intersection of this RDD and another one. The output will not contain any duplicate elements, even if the input RDDs did.\n",
    "\n",
    "**Action operations:**\n",
    "- collect: Returns the elements in the source RDD as an array. **It can crash the driver program if called on a very large RDD.**\n",
    "- count: The count method returns a count of the elements in the source RDD.\n",
    "- countByValue: The countByValue method returns a count of each unique element in the source RDD\n",
    "- first: The first element in the source RDD.\n",
    "- max: Returns the largest element in an RDD. Similar idea for min\n",
    "- stdev: Compute the standard deviation of this RDD’s elements.\n",
    "- take: takes an integer N as input and returns an array containing the first N element in the source RDD.\n",
    "- takeOrdered: takes an integer N as input and returns an array containing the N smallest elements in the source RDD.\n",
    "- top: takes an integer N as input and returns an array containing the N largest elements in the source RDD.\n",
    "- reduce: aggregates the elements of the source RDD using an associative and commutative binary operator provided to it."
   ]
  },
  {
   "cell_type": "code",
   "execution_count": 1,
   "metadata": {},
   "outputs": [],
   "source": [
    "#start the SparkContext\n",
    "import findspark\n",
    "findspark.init()\n",
    "from pyspark import SparkContext \n",
    "sc = SparkContext()"
   ]
  },
  {
   "cell_type": "markdown",
   "metadata": {},
   "source": [
    "# 1. Basic stuff"
   ]
  },
  {
   "cell_type": "code",
   "execution_count": 2,
   "metadata": {},
   "outputs": [
    {
     "name": "stdout",
     "output_type": "stream",
     "text": [
      "Count: 1000\n",
      "Max: 100\n",
      "Min: 1\n",
      "Mean: 50.812000000000026\n",
      "Std. dev. : 28.928094579491404\n"
     ]
    }
   ],
   "source": [
    "RDD_text = sc.textFile('Numbers.csv') # reads as text\n",
    "RDD = RDD_text.map(lambda x: int(x))\n",
    "# How many numbers are there\n",
    "print(\"Count: \" + str(RDD.count()))\n",
    "# Max value\n",
    "print(\"Max: \" + str(RDD.max()))\n",
    "# Min value\n",
    "print(\"Min: \" + str(RDD.min()))\n",
    "# mean\n",
    "print(\"Mean: \" + str(RDD.mean()))\n",
    "# Standard deviation\n",
    "print(\"Std. dev. : \" + str(RDD.stdev()))"
   ]
  },
  {
   "cell_type": "code",
   "execution_count": 3,
   "metadata": {},
   "outputs": [
    {
     "name": "stdout",
     "output_type": "stream",
     "text": [
      "Count Even: 514\n",
      "Count > 80: 216\n",
      "Sum Odd: 25260\n",
      "Count Unique: 100\n",
      "Summation: 3423694\n"
     ]
    }
   ],
   "source": [
    "# count of even numbers\n",
    "print(\"Count Even: \" + str(RDD.filter(lambda x: x%2==0 ).count()))\n",
    "# count of numbers greater than 80\n",
    "print(\"Count > 80: \" + str(RDD.filter(lambda x: x>= 80 ).count()))\n",
    "# sum of odd numbers\n",
    "print(\"Sum Odd: \" + str(RDD.filter(lambda x: x%2!=0 ).reduce(lambda x,y: x+y))) # or sum()\n",
    "# number of unique elements in the RDD\n",
    "print(\"Count Unique: \" + str(RDD.distinct().count()))\n",
    "# Summation of (x^2 + 5)\n",
    "print(\"Summation: \" + str(RDD.map(lambda x: x**2+5).reduce(lambda x,y: x+y)))"
   ]
  },
  {
   "cell_type": "markdown",
   "metadata": {},
   "source": [
    "# 2. Working with Text"
   ]
  },
  {
   "cell_type": "code",
   "execution_count": 4,
   "metadata": {},
   "outputs": [
    {
     "name": "stdout",
     "output_type": "stream",
     "text": [
      "Count Words: 15729\n",
      "Count Unique Words: 5174\n",
      "Count Words > 4 characters: 6973\n",
      "Average characters per word: 4.896751223854028\n",
      "unique words case-insensitive: 5054\n",
      "Upper-case words: ['FROM', 'FAIREST', 'CREATURES', 'WE', 'DESIRE']\n",
      "folly--doctor-like--controlling\n"
     ]
    }
   ],
   "source": [
    "RDD_words = sc.textFile('sonnetWords.txt')\n",
    "RDD_words = RDD_words.filter(lambda x: x!='')\n",
    "# How many words are there\n",
    "print(\"Count Words: \" + str(RDD_words.count()))\n",
    "# How many unique words\n",
    "print(\"Count Unique Words: \" + str(RDD_words.distinct().count()))\n",
    "# How many words having at least 4 characters\n",
    "print(\"Count Words > 4 characters: \" + str(RDD_words.filter(lambda x: x!='').filter(lambda x: len(x)>4).count()))\n",
    "# Average number of characters per word\n",
    "print(\"Average characters per word: \" + str(RDD_words.map(lambda x: len(x)).sum()/RDD_words.count()))\n",
    "# Number of unique words case-insensitive\n",
    "print(\"unique words case-insensitive: \" + str(RDD_words.map(lambda x: x.upper()).distinct().count()))\n",
    "# Convert the words to UPPERCASE and show few samples\n",
    "print(\"Upper-case words: \" + str(RDD_words.map(lambda x: x.upper()).take(5)))\n",
    "# print the longest word (having highest number of characters)\n",
    "print(RDD_words.reduce(lambda w1, w2: w1 if(len(w1)>len(w2)) else w2))"
   ]
  },
  {
   "cell_type": "code",
   "execution_count": 5,
   "metadata": {},
   "outputs": [],
   "source": [
    "def shorterOfTwo (line1, line2):\n",
    "    if (len(line1.split()) < len(line2.split())): \n",
    "        return line1\n",
    "    else:\n",
    "        return line2"
   ]
  },
  {
   "cell_type": "code",
   "execution_count": 6,
   "metadata": {},
   "outputs": [
    {
     "name": "stdout",
     "output_type": "stream",
     "text": [
      "['CHAPTER 1. Loomings.', 'Call me Ishmael. Some years ago--never mind how long precisely--having', 'little or no money in my purse, and nothing particular to interest me on']\n",
      "Count Sentences: 18169\n",
      "Sample Sentences containing 'delights': ['up towards the warm and pleasant sun, and all the delights of air and', 'all Martial Commanders whom the world invariably delights to honour. And']\n",
      "Average number of words per sentence: 11.48478177114866\n",
      "['some time or other genius to go to sea? Why upon your first voyage as a', '\"There,\" said the landlord, placing the candle on a genius old sea chest', \"'Twas a foolish, ignorant whim of his genius, widowed mother, who died\"]\n",
      "Sortest sentence: orphan.\n",
      "Wall time: 11.5 s\n"
     ]
    }
   ],
   "source": [
    "%%time\n",
    "RDD_texts = sc.textFile('Moby-Dick.txt')\n",
    "RDD_texts = RDD_texts.filter(lambda line: line.strip())\n",
    "print(RDD_texts.take(3))\n",
    "# How many sentences are there\n",
    "print(\"Count Sentences: \" + str(RDD_texts.count()))\n",
    "# Show a sample sentence containing word 'delights'\n",
    "print(\"Sample Sentences containing 'delights': \" + str(RDD_texts.filter(lambda x: 'delights' in x).take(3)))\n",
    "# Average number of words per sentence\n",
    "print(\"Average number of words per sentence: \" + str(RDD_texts.map(lambda line: line.split(\" \")).map(lambda x: len(x)).mean()))\n",
    "# replace all 'crazy' with 'genius' and show 3 examples\n",
    "print(RDD_texts.map(lambda line: line.replace('crazy', 'genius')).filter(lambda line: 'genius' in line).take(3))\n",
    "# shortest sentence (in terms of number of words) in the text\n",
    "print(\"Sortest sentence: \" + RDD_texts.reduce(shorterOfTwo))"
   ]
  },
  {
   "cell_type": "code",
   "execution_count": null,
   "metadata": {},
   "outputs": [],
   "source": []
  }
 ],
 "metadata": {
  "kernelspec": {
   "display_name": "Python 3",
   "language": "python",
   "name": "python3"
  },
  "language_info": {
   "codemirror_mode": {
    "name": "ipython",
    "version": 3
   },
   "file_extension": ".py",
   "mimetype": "text/x-python",
   "name": "python",
   "nbconvert_exporter": "python",
   "pygments_lexer": "ipython3",
   "version": "3.6.7"
  }
 },
 "nbformat": 4,
 "nbformat_minor": 2
}
