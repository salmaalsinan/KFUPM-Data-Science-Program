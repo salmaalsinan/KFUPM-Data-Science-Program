{
  "nbformat": 4,
  "nbformat_minor": 0,
  "metadata": {
    "colab": {
      "name": "D1W4.ipynb",
      "version": "0.3.2",
      "provenance": [],
      "collapsed_sections": []
    },
    "kernelspec": {
      "name": "python3",
      "display_name": "Python 3"
    }
  },
  "cells": [
    {
      "cell_type": "markdown",
      "metadata": {
        "id": "LmBuvR30yEBO",
        "colab_type": "text"
      },
      "source": [
        "# Machine Learning Module"
      ]
    },
    {
      "cell_type": "markdown",
      "metadata": {
        "id": "9bf1L0LRScZt",
        "colab_type": "text"
      },
      "source": [
        "Generate data"
      ]
    },
    {
      "cell_type": "code",
      "metadata": {
        "id": "pM2z-JbwyIv5",
        "colab_type": "code",
        "colab": {
          "base_uri": "https://localhost:8080/",
          "height": 321
        },
        "outputId": "f900df46-9eb0-4ea2-a518-4f20894b926f"
      },
      "source": [
        "from sklearn import datasets\n",
        "import matplotlib.pyplot as plt\n",
        "import pandas as pd\n",
        "import numpy as np\n",
        "\n",
        "x, y = datasets.make_blobs(n_samples= 40, \n",
        "                           centers= 3, \n",
        "                           n_features =2, \n",
        "                           cluster_std= 1.0, \n",
        "                           center_box=(-10.0, 10.0), \n",
        "                           shuffle= True, \n",
        "                           random_state= None)\n",
        "\n",
        "print(np.shape(x))\n",
        "print(np.shape(y))\n",
        "plt.scatter(x[:,0],x[:,1], 30, y)"
      ],
      "execution_count": 22,
      "outputs": [
        {
          "output_type": "stream",
          "text": [
            "(40, 2)\n",
            "(40,)\n"
          ],
          "name": "stdout"
        },
        {
          "output_type": "execute_result",
          "data": {
            "text/plain": [
              "<matplotlib.collections.PathCollection at 0x7f5beefc4278>"
            ]
          },
          "metadata": {
            "tags": []
          },
          "execution_count": 22
        },
        {
          "output_type": "display_data",
          "data": {
            "image/png": "[encoded data removed]",
            "text/plain": [
              "<Figure size 432x288 with 1 Axes>"
            ]
          },
          "metadata": {
            "tags": []
          }
        }
      ]
    },
    {
      "cell_type": "code",
      "metadata": {
        "id": "QLmdUC5jytay",
        "colab_type": "code",
        "colab": {
          "base_uri": "https://localhost:8080/",
          "height": 287
        },
        "outputId": "e8f516a7-9dd8-44df-b6cd-f60ddac3509b"
      },
      "source": [
        "\"\"\n",
        "xb, yb = datasets.make_blobs(n_samples= 40, \n",
        "                           centers= 3, \n",
        "                           n_features =2, \n",
        "                           cluster_std= 1.0, \n",
        "                           center_box=(-10.0, 10.0), \n",
        "                           shuffle= True, \n",
        "                           random_state= 2)\n",
        "\n",
        "plt.scatter(xb[:,0],xb[:,1], 30, yb)"
      ],
      "execution_count": 33,
      "outputs": [
        {
          "output_type": "execute_result",
          "data": {
            "text/plain": [
              "<matplotlib.collections.PathCollection at 0x7f5beed27438>"
            ]
          },
          "metadata": {
            "tags": []
          },
          "execution_count": 33
        },
        {
          "output_type": "display_data",
          "data": {
            "image/png": "[encoded data removed]",
            "text/plain": [
              "<Figure size 432x288 with 1 Axes>"
            ]
          },
          "metadata": {
            "tags": []
          }
        }
      ]
    },
    {
      "cell_type": "code",
      "metadata": {
        "id": "-PPXjxfhzwqu",
        "colab_type": "code",
        "colab": {
          "base_uri": "https://localhost:8080/",
          "height": 287
        },
        "outputId": "2cb7a276-4223-42d8-f7dd-c1f64453482b"
      },
      "source": [
        "xm, ym = datasets.make_moons(n_samples= 40, \n",
        "                            shuffle= True, \n",
        "                            noise= None,\n",
        "                            random_state= None)\n",
        "\n",
        "\n",
        "plt.scatter(xm[:,0],xm[:,1], 30, ym)"
      ],
      "execution_count": 38,
      "outputs": [
        {
          "output_type": "execute_result",
          "data": {
            "text/plain": [
              "<matplotlib.collections.PathCollection at 0x7f5beec907b8>"
            ]
          },
          "metadata": {
            "tags": []
          },
          "execution_count": 38
        },
        {
          "output_type": "display_data",
          "data": {
            "image/png": "[encoded data removed]",
            "text/plain": [
              "<Figure size 432x288 with 1 Axes>"
            ]
          },
          "metadata": {
            "tags": []
          }
        }
      ]
    },
    {
      "cell_type": "code",
      "metadata": {
        "id": "pAHDUcFQ2Knm",
        "colab_type": "code",
        "colab": {
          "base_uri": "https://localhost:8080/",
          "height": 287
        },
        "outputId": "ad4429f1-ba20-4669-d1c6-8d60b38a12b9"
      },
      "source": [
        "xn, yn = datasets.make_moons(n_samples= 40, \n",
        "                            shuffle= True, \n",
        "                            noise= .1,\n",
        "                            random_state= None)\n",
        "\n",
        "\n",
        "plt.scatter(xn[:,0],xn[:,1], 30, yn)"
      ],
      "execution_count": 44,
      "outputs": [
        {
          "output_type": "execute_result",
          "data": {
            "text/plain": [
              "<matplotlib.collections.PathCollection at 0x7f5beeab51d0>"
            ]
          },
          "metadata": {
            "tags": []
          },
          "execution_count": 44
        },
        {
          "output_type": "display_data",
          "data": {
            "image/png": "[encoded data removed]",
            "text/plain": [
              "<Figure size 432x288 with 1 Axes>"
            ]
          },
          "metadata": {
            "tags": []
          }
        }
      ]
    },
    {
      "cell_type": "code",
      "metadata": {
        "id": "yrgeGqla2-sU",
        "colab_type": "code",
        "colab": {
          "base_uri": "https://localhost:8080/",
          "height": 287
        },
        "outputId": "9dc3fffe-9ac4-4b05-8afe-407d381f06d1"
      },
      "source": [
        "xc, yc = datasets.make_circles(n_samples= 40, \n",
        "                            shuffle= True, \n",
        "                            noise= None,\n",
        "                            random_state= None,\n",
        "                            factor= 0.8)\n",
        "\n",
        "\n",
        "plt.scatter(xc[:,0],xc[:,1], 30, yc)"
      ],
      "execution_count": 46,
      "outputs": [
        {
          "output_type": "execute_result",
          "data": {
            "text/plain": [
              "<matplotlib.collections.PathCollection at 0x7f5beea1aa20>"
            ]
          },
          "metadata": {
            "tags": []
          },
          "execution_count": 46
        },
        {
          "output_type": "display_data",
          "data": {
            "image/png": "[encoded data removed]",
            "text/plain": [
              "<Figure size 432x288 with 1 Axes>"
            ]
          },
          "metadata": {
            "tags": []
          }
        }
      ]
    },
    {
      "cell_type": "code",
      "metadata": {
        "id": "6C6bWywc4VE0",
        "colab_type": "code",
        "colab": {
          "base_uri": "https://localhost:8080/",
          "height": 287
        },
        "outputId": "17045766-945e-4d1a-c611-71c247117f4b"
      },
      "source": [
        "xc, yc = datasets.make_circles(n_samples= 40, \n",
        "                            shuffle= True, \n",
        "                            noise= .1,\n",
        "                            random_state= None,\n",
        "                            factor= 0.8)\n",
        "\n",
        "\n",
        "plt.scatter(xc[:,0],xc[:,1], 30, yc)"
      ],
      "execution_count": 47,
      "outputs": [
        {
          "output_type": "execute_result",
          "data": {
            "text/plain": [
              "<matplotlib.collections.PathCollection at 0x7f5bee9892b0>"
            ]
          },
          "metadata": {
            "tags": []
          },
          "execution_count": 47
        },
        {
          "output_type": "display_data",
          "data": {
            "image/png": "[encoded data removed]",
            "text/plain": [
              "<Figure size 432x288 with 1 Axes>"
            ]
          },
          "metadata": {
            "tags": []
          }
        }
      ]
    },
    {
      "cell_type": "markdown",
      "metadata": {
        "id": "cqCvvWa4SqR_",
        "colab_type": "text"
      },
      "source": [
        "Suppose we have three points P1=[1, 2],  P2=[1.75, 3],  and P3=[1, 3.5], and we want to know the nearest point to point P1.  To do that, one idea is to compute the distance between P1 to the other two points and choose the one with the smallest distance. Another idea is to compute the similarity between P1 and the other two points and select the most similar one.  Write a python code to determine which of these two points P2 and P3 are the most similar to P1 and located near it. For similarity use Cosine similarity metric and for distance use Euclidean distance. Both formulas are given below"
      ]
    },
    {
      "cell_type": "code",
      "metadata": {
        "id": "3dZ5nJDj4c_-",
        "colab_type": "code",
        "colab": {
          "base_uri": "https://localhost:8080/",
          "height": 35
        },
        "outputId": "3272fc4c-4d19-4693-dade-65aefdaf1362"
      },
      "source": [
        "import sklearn.metrics.pairwise as pw\n",
        "\n",
        "p1=np.array([1,2])\n",
        "p2=np.array([1.75, 3])\n",
        "p3=np.array([1,3.5])\n",
        "\n",
        "#euclidean_distances is the distance of the euclidian\n",
        "d1= pw.euclidean_distances(p1.reshape(-1,2), p2.reshape(-1,2)) [0]\n",
        "d2= pw.euclidean_distances(p1.reshape(-1,2), p3.reshape(-1,2)) [0]\n",
        "\n",
        "if d1<d2:\n",
        "  print('P2 is closer to P1: {}'.format(d1))\n",
        "\n",
        "else:\n",
        "  print('P3 is closer to P1: {}'. format(d2))"
      ],
      "execution_count": 60,
      "outputs": [
        {
          "output_type": "stream",
          "text": [
            "P2 is closer to P1: [1.25]\n"
          ],
          "name": "stdout"
        }
      ]
    },
    {
      "cell_type": "code",
      "metadata": {
        "id": "NISfKa2_7lCL",
        "colab_type": "code",
        "colab": {
          "base_uri": "https://localhost:8080/",
          "height": 35
        },
        "outputId": "d97e06a3-ab97-48a2-900c-7101832becef"
      },
      "source": [
        "#manhattan_distances is the city block method\n",
        "d1= pw.manhattan_distances(p1.reshape(-1,2), p2.reshape(-1,2)) [0]\n",
        "d2= pw.manhattan_distances(p1.reshape(-1,2), p3.reshape(-1,2)) [0]\n",
        "\n",
        "if d1<d2:\n",
        "  print('P2 is closer to P1: {}'.format(d1))\n",
        "\n",
        "else:\n",
        "  print('P3 is closer to P1: {}'. format(d2))"
      ],
      "execution_count": 61,
      "outputs": [
        {
          "output_type": "stream",
          "text": [
            "P3 is closer to P1: [1.5]\n"
          ],
          "name": "stdout"
        }
      ]
    },
    {
      "cell_type": "markdown",
      "metadata": {
        "id": "RI-afyq9TArs",
        "colab_type": "text"
      },
      "source": [
        "Evaluation External Index]\n",
        "Generate two clusters using make_blobs function that can be found in the following package\n"
      ]
    },
    {
      "cell_type": "code",
      "metadata": {
        "id": "6qa9Pm_295Ok",
        "colab_type": "code",
        "colab": {
          "base_uri": "https://localhost:8080/",
          "height": 287
        },
        "outputId": "21a94d8e-79e5-4ebf-cd60-30f43daba8d1"
      },
      "source": [
        "# Silhouette\n",
        "\n",
        "from sklearn.datasets.samples_generator import make_blobs\n",
        "x, y = datasets.make_blobs(n_samples= 20, \n",
        "                           centers= 2, \n",
        "                           n_features =2, \n",
        "                           cluster_std= 1, \n",
        "                           random_state= 2)\n",
        "\n",
        "plt.scatter(x[:,0],x[:,1], 30, y)\n"
      ],
      "execution_count": 78,
      "outputs": [
        {
          "output_type": "execute_result",
          "data": {
            "text/plain": [
              "<matplotlib.collections.PathCollection at 0x7f5be9bef278>"
            ]
          },
          "metadata": {
            "tags": []
          },
          "execution_count": 78
        },
        {
          "output_type": "display_data",
          "data": {
            "image/png": "[encoded data removed]",
            "text/plain": [
              "<Figure size 432x288 with 1 Axes>"
            ]
          },
          "metadata": {
            "tags": []
          }
        }
      ]
    },
    {
      "cell_type": "code",
      "metadata": {
        "id": "lPuHBfJ4L5mQ",
        "colab_type": "code",
        "colab": {
          "base_uri": "https://localhost:8080/",
          "height": 52
        },
        "outputId": "cac87c51-0864-4817-9047-2db6ab12a48a"
      },
      "source": [
        "mask = np.random.randint(0,2,size=y.shape).astype(np.bool)\n",
        "change = np.ones(y.shape)\n",
        "yhat= np.copy(y)\n",
        "yhat[mask]= change[mask]\n",
        "print(\"y\",y)\n",
        "print(\"yhat\",yhat)\n",
        "\n"
      ],
      "execution_count": 79,
      "outputs": [
        {
          "output_type": "stream",
          "text": [
            "y [0 1 1 1 1 1 1 0 0 0 1 1 0 1 1 0 0 0 0 0]\n",
            "yhat [1 1 1 1 1 1 1 0 0 1 1 1 1 1 1 0 0 0 0 1]\n"
          ],
          "name": "stdout"
        }
      ]
    },
    {
      "cell_type": "code",
      "metadata": {
        "id": "-rHFgBT4TaNl",
        "colab_type": "code",
        "colab": {}
      },
      "source": [
        ""
      ],
      "execution_count": 0,
      "outputs": []
    },
    {
      "cell_type": "code",
      "metadata": {
        "id": "AujXtlsnQxZt",
        "colab_type": "code",
        "colab": {
          "base_uri": "https://localhost:8080/",
          "height": 124
        },
        "outputId": "4e4f8c66-f4a3-44cd-e18b-42c2ea830bba"
      },
      "source": [
        "from sklearn.metrics import silhouette_score,jaccard_score,jaccard_similarity_score, adjusted_rand_score \n",
        "print('silhouette',silhouette_score(x,yhat))\n",
        "\n",
        "print('Jaccard', jaccard_score(y,yhat))\n",
        "\n",
        "print('jaccard sim', jaccard_similarity_score(y,yhat))\n",
        "\n",
        "\n",
        "print('ARI',adjusted_rand_score(y,yhat))"
      ],
      "execution_count": 85,
      "outputs": [
        {
          "output_type": "stream",
          "text": [
            "Jaccard 0.7142857142857143\n",
            "jaccard sim 0.8\n",
            "ARI 0.3303964757709251\n"
          ],
          "name": "stdout"
        },
        {
          "output_type": "stream",
          "text": [
            "/usr/local/lib/python3.6/dist-packages/sklearn/metrics/classification.py:635: DeprecationWarning: jaccard_similarity_score has been deprecated and replaced with jaccard_score. It will be removed in version 0.23. This implementation has surprising behavior for binary and multiclass classification tasks.\n",
            "  'and multiclass classification tasks.', DeprecationWarning)\n"
          ],
          "name": "stderr"
        }
      ]
    },
    {
      "cell_type": "markdown",
      "metadata": {
        "id": "yi1r9RkTVoID",
        "colab_type": "text"
      },
      "source": [
        "Use the same created dataset X and the clustering results y ̂ to compute the following metrics\n",
        "\tWithin Sum of Squares (WSS) also called inertia\n",
        "\tBetween Sum of Squares (BSS)\n",
        "\tSilhouette index \n"
      ]
    },
    {
      "cell_type": "code",
      "metadata": {
        "id": "bitVWjVeSJBz",
        "colab_type": "code",
        "colab": {
          "base_uri": "https://localhost:8080/",
          "height": 69
        },
        "outputId": "caf67866-b28a-46b6-cc87-bb5fd4a3611d"
      },
      "source": [
        "\n",
        "print('silhouette',silhouette_score(x,yhat))\n",
        "\n",
        "\n",
        "c1=x[y==1,:]\n",
        "c2=x[y==0,:]\n",
        "\n",
        "m1=c1.mean()\n",
        "\n",
        "m2=c2.mean()\n",
        "\n",
        "m=x.mean()\n",
        "\n",
        "l1= len(c1)\n",
        "l2= len(c2)\n",
        "\n",
        "\n",
        "print('WSS',(((x-m1)**2)+((x-m2)**2)).sum())\n",
        "\n",
        "print('BSS',(l1*((m-m1)**2))+ (l2*((m-m2)**2)))\n",
        " "
      ],
      "execution_count": 100,
      "outputs": [
        {
          "output_type": "stream",
          "text": [
            "silhouette 0.37321553523751405\n",
            "WSS 1913.8006230150766\n",
            "BSS 144.4875609033959\n"
          ],
          "name": "stdout"
        }
      ]
    },
    {
      "cell_type": "markdown",
      "metadata": {
        "id": "v2qR_vx7V7tu",
        "colab_type": "text"
      },
      "source": [
        "#K-means"
      ]
    },
    {
      "cell_type": "markdown",
      "metadata": {
        "id": "YduDHzvta_uX",
        "colab_type": "text"
      },
      "source": [
        "Using KMeans from Scikit learn, create an instance of the model. Specify the following parameters:\n",
        "-\tn_clusters =2\n",
        "-\tinit=\"k-means++\"\n",
        "\n",
        "and perform clustering on the above created dataset. Finally, use scatter plot to show clustering results. "
      ]
    },
    {
      "cell_type": "code",
      "metadata": {
        "id": "0v8l43UkbR5n",
        "colab_type": "code",
        "colab": {
          "base_uri": "https://localhost:8080/",
          "height": 35
        },
        "outputId": "78f7dd87-ecc5-4959-83fd-934c362e89a1"
      },
      "source": [
        ""
      ],
      "execution_count": 105,
      "outputs": [
        {
          "output_type": "execute_result",
          "data": {
            "text/plain": [
              "(20,)"
            ]
          },
          "metadata": {
            "tags": []
          },
          "execution_count": 105
        }
      ]
    },
    {
      "cell_type": "code",
      "metadata": {
        "id": "NOQEEko9V6uG",
        "colab_type": "code",
        "colab": {
          "base_uri": "https://localhost:8080/",
          "height": 287
        },
        "outputId": "ff12f8dc-9821-45bc-e8c9-6d181ba048c9"
      },
      "source": [
        "from sklearn.cluster import KMeans\n",
        "\n",
        "n_clusters =3\n",
        "\n",
        "kmeans= KMeans(n_clusters,\n",
        "              init='k-means++',\n",
        "              n_init=10,\n",
        "              max_iter=300,\n",
        "              tol=1e-4,\n",
        "              verbose=0,\n",
        "              random_state=None,\n",
        "              algorithm='auto')\n",
        "\n",
        "kmeans.fit(x)\n",
        "y_pred =kmeans.predict(x)\n",
        "\n",
        "plt.figure()\n",
        "plt.scatter(x[:,0],x[:,1],30,y_pred)\n",
        "\n",
        "\n"
      ],
      "execution_count": 109,
      "outputs": [
        {
          "output_type": "execute_result",
          "data": {
            "text/plain": [
              "<matplotlib.collections.PathCollection at 0x7f5be9a77f60>"
            ]
          },
          "metadata": {
            "tags": []
          },
          "execution_count": 109
        },
        {
          "output_type": "display_data",
          "data": {
            "image/png": "[encoded data removed]",
            "text/plain": [
              "<Figure size 432x288 with 1 Axes>"
            ]
          },
          "metadata": {
            "tags": []
          }
        }
      ]
    },
    {
      "cell_type": "markdown",
      "metadata": {
        "id": "wt6Zw1nmb2hr",
        "colab_type": "text"
      },
      "source": [
        "Question 6 [Determine value for K (elbow method)]\n",
        "Elbow method is used to determine the right number of clusters for a given dataset. The turning point ( that forms an elbow shape) should be used as K values. The following Figure shows a curve with an elbow shape. \n",
        "\n",
        "Given the data used in Question 3, write a python code that performs kmeans clustering of the data for several iterations with different K each time. Compute the WSS (inertia) in each iteration. Then, plot the curve with number of clusters at the horizontal access, while the inertia in the vertical axis. \n"
      ]
    },
    {
      "cell_type": "code",
      "metadata": {
        "id": "_Ccy5bfjbN0N",
        "colab_type": "code",
        "colab": {
          "base_uri": "https://localhost:8080/",
          "height": 283
        },
        "outputId": "8b997080-8ecb-4341-bf0e-552e2583b542"
      },
      "source": [
        "kk=range(1, 10)\n",
        "sse = []\n",
        "for k in range(1, 10):\n",
        "    kmeans = KMeans(n_clusters=k, max_iter=1000).fit(x)\n",
        "    sse.append(kmeans.inertia_)\n",
        "    \n",
        "    \n",
        "plt.figure()\n",
        "plt.plot(kk, sse)\n",
        "plt.xlabel(\"Number of cluster\")\n",
        "plt.ylabel(\"WSS\")\n",
        "plt.show()"
      ],
      "execution_count": 128,
      "outputs": [
        {
          "output_type": "display_data",
          "data": {
            "image/png": "[encoded data removed]",
            "text/plain": [
              "<Figure size 432x288 with 1 Axes>"
            ]
          },
          "metadata": {
            "tags": []
          }
        }
      ]
    },
    {
      "cell_type": "code",
      "metadata": {
        "id": "Obu5c6vxcaX3",
        "colab_type": "code",
        "colab": {}
      },
      "source": [
        "\"\""
      ],
      "execution_count": 0,
      "outputs": []
    }
  ]
}