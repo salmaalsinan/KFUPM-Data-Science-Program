{
  "nbformat": 4,
  "nbformat_minor": 0,
  "metadata": {
    "colab": {
      "name": "Spline Regression.ipynb",
      "version": "0.3.2",
      "provenance": []
    },
    "kernelspec": {
      "name": "python3",
      "display_name": "Python 3"
    }
  },
  "cells": [
    {
      "cell_type": "code",
      "metadata": {
        "id": "GP_ElWLUDAL-",
        "colab_type": "code",
        "colab": {}
      },
      "source": [
        "# You may not need this step if you libraries are up to date!\n",
        "# Please install this package and restrate the notebook from Runtime menu (statsmodels)      \n",
        "! pip install --upgrade Cython\n",
        "! pip install --upgrade git+https://github.com/statsmodels/statsmodels      "
      ],
      "execution_count": 0,
      "outputs": []
    },
    {
      "cell_type": "code",
      "metadata": {
        "id": "b6BaR33fDEUj",
        "colab_type": "code",
        "colab": {}
      },
      "source": [
        "# for the stas model, it requires an update above\n",
        "import statsmodels.formula.api  as smf\n",
        "import statsmodels.api as sm\n",
        "from patsy import dmatrix"
      ],
      "execution_count": 0,
      "outputs": []
    },
    {
      "cell_type": "code",
      "metadata": {
        "id": "gHWrQSuNDXVN",
        "colab_type": "code",
        "colab": {}
      },
      "source": [
        "from sklearn.linear_model import LinearRegression\n",
        "from sklearn.preprocessing import PolynomialFeatures\n",
        "\n",
        "# Visualization\n",
        "import matplotlib.pyplot as plt\n",
        "import seaborn as sns\n",
        "\n",
        "#Arrayes and Data\n",
        "import pandas as pd\n",
        "import numpy as np"
      ],
      "execution_count": 0,
      "outputs": []
    },
    {
      "cell_type": "code",
      "metadata": {
        "id": "s19sxHBLDKTm",
        "colab_type": "code",
        "colab": {}
      },
      "source": [
        "# ML Library\n",
        "from sklearn.linear_model import LinearRegression"
      ],
      "execution_count": 0,
      "outputs": []
    },
    {
      "cell_type": "code",
      "metadata": {
        "id": "-rXtJeDZDUfD",
        "colab_type": "code",
        "colab": {}
      },
      "source": [
        "def Concave(x):\n",
        "    return 1/(1+25*x**4)\n",
        "\n",
        "# make example data\n",
        "tmpx = np.linspace(-1,1,30)\n",
        "y = Concave(tmpx) + np.random.normal(0, 0.2, len(tmpx))"
      ],
      "execution_count": 0,
      "outputs": []
    },
    {
      "cell_type": "code",
      "metadata": {
        "id": "aRA_znHGDmg9",
        "colab_type": "code",
        "colab": {
          "base_uri": "https://localhost:8080/",
          "height": 34
        },
        "outputId": "303eeebf-1e3f-4709-a454-fbb286865280"
      },
      "source": [
        "Qaud_reg = PolynomialFeatures(degree =3)\n",
        "X_Qaud    =Qaud_reg.fit_transform(tmpx[:,None])\n",
        "#Qaud_reg.fit(X_Qaud,y)\n",
        "lrQ = LinearRegression()\n",
        "lrQ.fit(X_Qaud,y)\n",
        "print(lrQ.coef_)"
      ],
      "execution_count": 9,
      "outputs": [
        {
          "output_type": "stream",
          "text": [
            "[ 0.          0.10421551 -0.89701384 -0.13805955]\n"
          ],
          "name": "stdout"
        }
      ]
    },
    {
      "cell_type": "code",
      "metadata": {
        "id": "FrgMA1R_DqBz",
        "colab_type": "code",
        "colab": {
          "base_uri": "https://localhost:8080/",
          "height": 34
        },
        "outputId": "8c35971e-3e4a-47f3-9e9d-4ea306f3fffa"
      },
      "source": [
        "# to to predict\n",
        "#1- you need to transform the new raw data using our transformation model\n",
        "#2- use the transformed data to get the new reponss\n",
        "\n",
        "new_point = Qaud_reg.fit_transform(np.array([-0.5]).reshape(-1,1))\n",
        "lrQ.predict(new_point)"
      ],
      "execution_count": 10,
      "outputs": [
        {
          "output_type": "execute_result",
          "data": {
            "text/plain": [
              "array([0.56137963])"
            ]
          },
          "metadata": {
            "tags": []
          },
          "execution_count": 10
        }
      ]
    },
    {
      "cell_type": "code",
      "metadata": {
        "id": "8ybRt9bOEO_M",
        "colab_type": "code",
        "colab": {}
      },
      "source": [
        ""
      ],
      "execution_count": 0,
      "outputs": []
    },
    {
      "cell_type": "markdown",
      "metadata": {
        "id": "LOqbA2q8EPTE",
        "colab_type": "text"
      },
      "source": [
        "# Bining gives you a step functions\n",
        "Binned regression does not create continuous functions of the predictor, so in most cases we would expect no relationship between the input and output."
      ]
    },
    {
      "cell_type": "code",
      "metadata": {
        "id": "TOtsDzP_D-sP",
        "colab_type": "code",
        "colab": {
          "base_uri": "https://localhost:8080/",
          "height": 70
        },
        "outputId": "8f2c651e-a069-49bd-93c8-e712072e2c35"
      },
      "source": [
        "# Show the data division\n",
        "tmpxs = pd.Series(tmpx)\n",
        "\n",
        "df_cut, bins = pd.cut(tmpxs, 2, retbins=True, right=True)\n",
        "df_cut.value_counts()"
      ],
      "execution_count": 12,
      "outputs": [
        {
          "output_type": "execute_result",
          "data": {
            "text/plain": [
              "(0.0, 1.0]       15\n",
              "(-1.002, 0.0]    15\n",
              "dtype: int64"
            ]
          },
          "metadata": {
            "tags": []
          },
          "execution_count": 12
        }
      ]
    },
    {
      "cell_type": "code",
      "metadata": {
        "id": "qpRIFFsUEV9C",
        "colab_type": "code",
        "colab": {
          "base_uri": "https://localhost:8080/",
          "height": 981
        },
        "outputId": "158a3e2c-f712-42dd-e61f-7f5bd9d07406"
      },
      "source": [
        "#Better way is to use Pasty dmatrix to divide and set parameters\n",
        "#patsy.dmatrix(formula_like, data={}, eval_env=0, NA_action='drop', return_type='matrix')\n",
        "\n",
        "Ttmpx = dmatrix(\"bs(train, knots=[-0.5,  0, 0.5], degree=2, include_intercept=False)\", {\"train\": tmpx},return_type='dataframe')\n",
        "Ttmpx"
      ],
      "execution_count": 13,
      "outputs": [
        {
          "output_type": "execute_result",
          "data": {
            "text/html": [
              "<div>\n",
              "<style scoped>\n",
              "    .dataframe tbody tr th:only-of-type {\n",
              "        vertical-align: middle;\n",
              "    }\n",
              "\n",
              "    .dataframe tbody tr th {\n",
              "        vertical-align: top;\n",
              "    }\n",
              "\n",
              "    .dataframe thead th {\n",
              "        text-align: right;\n",
              "    }\n",
              "</style>\n",
              "<table border=\"1\" class=\"dataframe\">\n",
              "  <thead>\n",
              "    <tr style=\"text-align: right;\">\n",
              "      <th></th>\n",
              "      <th>Intercept</th>\n",
              "      <th>bs(train, knots=[-0.5, 0, 0.5], degree=2, include_intercept=False)[0]</th>\n",
              "      <th>bs(train, knots=[-0.5, 0, 0.5], degree=2, include_intercept=False)[1]</th>\n",
              "      <th>bs(train, knots=[-0.5, 0, 0.5], degree=2, include_intercept=False)[2]</th>\n",
              "      <th>bs(train, knots=[-0.5, 0, 0.5], degree=2, include_intercept=False)[3]</th>\n",
              "      <th>bs(train, knots=[-0.5, 0, 0.5], degree=2, include_intercept=False)[4]</th>\n",
              "    </tr>\n",
              "  </thead>\n",
              "  <tbody>\n",
              "    <tr>\n",
              "      <th>0</th>\n",
              "      <td>1.0</td>\n",
              "      <td>0.000000</td>\n",
              "      <td>0.000000</td>\n",
              "      <td>0.000000</td>\n",
              "      <td>0.000000</td>\n",
              "      <td>0.000000</td>\n",
              "    </tr>\n",
              "    <tr>\n",
              "      <th>1</th>\n",
              "      <td>1.0</td>\n",
              "      <td>0.247325</td>\n",
              "      <td>0.009512</td>\n",
              "      <td>0.000000</td>\n",
              "      <td>0.000000</td>\n",
              "      <td>0.000000</td>\n",
              "    </tr>\n",
              "    <tr>\n",
              "      <th>2</th>\n",
              "      <td>1.0</td>\n",
              "      <td>0.437574</td>\n",
              "      <td>0.038050</td>\n",
              "      <td>0.000000</td>\n",
              "      <td>0.000000</td>\n",
              "      <td>0.000000</td>\n",
              "    </tr>\n",
              "    <tr>\n",
              "      <th>3</th>\n",
              "      <td>1.0</td>\n",
              "      <td>0.570749</td>\n",
              "      <td>0.085612</td>\n",
              "      <td>0.000000</td>\n",
              "      <td>0.000000</td>\n",
              "      <td>0.000000</td>\n",
              "    </tr>\n",
              "    <tr>\n",
              "      <th>4</th>\n",
              "      <td>1.0</td>\n",
              "      <td>0.646849</td>\n",
              "      <td>0.152200</td>\n",
              "      <td>0.000000</td>\n",
              "      <td>0.000000</td>\n",
              "      <td>0.000000</td>\n",
              "    </tr>\n",
              "    <tr>\n",
              "      <th>5</th>\n",
              "      <td>1.0</td>\n",
              "      <td>0.665874</td>\n",
              "      <td>0.237812</td>\n",
              "      <td>0.000000</td>\n",
              "      <td>0.000000</td>\n",
              "      <td>0.000000</td>\n",
              "    </tr>\n",
              "    <tr>\n",
              "      <th>6</th>\n",
              "      <td>1.0</td>\n",
              "      <td>0.627824</td>\n",
              "      <td>0.342449</td>\n",
              "      <td>0.000000</td>\n",
              "      <td>0.000000</td>\n",
              "      <td>0.000000</td>\n",
              "    </tr>\n",
              "    <tr>\n",
              "      <th>7</th>\n",
              "      <td>1.0</td>\n",
              "      <td>0.532699</td>\n",
              "      <td>0.466112</td>\n",
              "      <td>0.000000</td>\n",
              "      <td>0.000000</td>\n",
              "      <td>0.000000</td>\n",
              "    </tr>\n",
              "    <tr>\n",
              "      <th>8</th>\n",
              "      <td>1.0</td>\n",
              "      <td>0.401902</td>\n",
              "      <td>0.592747</td>\n",
              "      <td>0.005351</td>\n",
              "      <td>0.000000</td>\n",
              "      <td>0.000000</td>\n",
              "    </tr>\n",
              "    <tr>\n",
              "      <th>9</th>\n",
              "      <td>1.0</td>\n",
              "      <td>0.287753</td>\n",
              "      <td>0.683115</td>\n",
              "      <td>0.029132</td>\n",
              "      <td>0.000000</td>\n",
              "      <td>0.000000</td>\n",
              "    </tr>\n",
              "    <tr>\n",
              "      <th>10</th>\n",
              "      <td>1.0</td>\n",
              "      <td>0.192628</td>\n",
              "      <td>0.735434</td>\n",
              "      <td>0.071938</td>\n",
              "      <td>0.000000</td>\n",
              "      <td>0.000000</td>\n",
              "    </tr>\n",
              "    <tr>\n",
              "      <th>11</th>\n",
              "      <td>1.0</td>\n",
              "      <td>0.116528</td>\n",
              "      <td>0.749703</td>\n",
              "      <td>0.133769</td>\n",
              "      <td>0.000000</td>\n",
              "      <td>0.000000</td>\n",
              "    </tr>\n",
              "    <tr>\n",
              "      <th>12</th>\n",
              "      <td>1.0</td>\n",
              "      <td>0.059453</td>\n",
              "      <td>0.725922</td>\n",
              "      <td>0.214625</td>\n",
              "      <td>0.000000</td>\n",
              "      <td>0.000000</td>\n",
              "    </tr>\n",
              "    <tr>\n",
              "      <th>13</th>\n",
              "      <td>1.0</td>\n",
              "      <td>0.021403</td>\n",
              "      <td>0.664090</td>\n",
              "      <td>0.314507</td>\n",
              "      <td>0.000000</td>\n",
              "      <td>0.000000</td>\n",
              "    </tr>\n",
              "    <tr>\n",
              "      <th>14</th>\n",
              "      <td>1.0</td>\n",
              "      <td>0.002378</td>\n",
              "      <td>0.564209</td>\n",
              "      <td>0.433413</td>\n",
              "      <td>0.000000</td>\n",
              "      <td>0.000000</td>\n",
              "    </tr>\n",
              "    <tr>\n",
              "      <th>15</th>\n",
              "      <td>1.0</td>\n",
              "      <td>0.000000</td>\n",
              "      <td>0.433413</td>\n",
              "      <td>0.564209</td>\n",
              "      <td>0.002378</td>\n",
              "      <td>0.000000</td>\n",
              "    </tr>\n",
              "    <tr>\n",
              "      <th>16</th>\n",
              "      <td>1.0</td>\n",
              "      <td>0.000000</td>\n",
              "      <td>0.314507</td>\n",
              "      <td>0.664090</td>\n",
              "      <td>0.021403</td>\n",
              "      <td>0.000000</td>\n",
              "    </tr>\n",
              "    <tr>\n",
              "      <th>17</th>\n",
              "      <td>1.0</td>\n",
              "      <td>0.000000</td>\n",
              "      <td>0.214625</td>\n",
              "      <td>0.725922</td>\n",
              "      <td>0.059453</td>\n",
              "      <td>0.000000</td>\n",
              "    </tr>\n",
              "    <tr>\n",
              "      <th>18</th>\n",
              "      <td>1.0</td>\n",
              "      <td>0.000000</td>\n",
              "      <td>0.133769</td>\n",
              "      <td>0.749703</td>\n",
              "      <td>0.116528</td>\n",
              "      <td>0.000000</td>\n",
              "    </tr>\n",
              "    <tr>\n",
              "      <th>19</th>\n",
              "      <td>1.0</td>\n",
              "      <td>0.000000</td>\n",
              "      <td>0.071938</td>\n",
              "      <td>0.735434</td>\n",
              "      <td>0.192628</td>\n",
              "      <td>0.000000</td>\n",
              "    </tr>\n",
              "    <tr>\n",
              "      <th>20</th>\n",
              "      <td>1.0</td>\n",
              "      <td>0.000000</td>\n",
              "      <td>0.029132</td>\n",
              "      <td>0.683115</td>\n",
              "      <td>0.287753</td>\n",
              "      <td>0.000000</td>\n",
              "    </tr>\n",
              "    <tr>\n",
              "      <th>21</th>\n",
              "      <td>1.0</td>\n",
              "      <td>0.000000</td>\n",
              "      <td>0.005351</td>\n",
              "      <td>0.592747</td>\n",
              "      <td>0.401902</td>\n",
              "      <td>0.000000</td>\n",
              "    </tr>\n",
              "    <tr>\n",
              "      <th>22</th>\n",
              "      <td>1.0</td>\n",
              "      <td>0.000000</td>\n",
              "      <td>0.000000</td>\n",
              "      <td>0.466112</td>\n",
              "      <td>0.532699</td>\n",
              "      <td>0.001189</td>\n",
              "    </tr>\n",
              "    <tr>\n",
              "      <th>23</th>\n",
              "      <td>1.0</td>\n",
              "      <td>0.000000</td>\n",
              "      <td>0.000000</td>\n",
              "      <td>0.342449</td>\n",
              "      <td>0.627824</td>\n",
              "      <td>0.029727</td>\n",
              "    </tr>\n",
              "    <tr>\n",
              "      <th>24</th>\n",
              "      <td>1.0</td>\n",
              "      <td>0.000000</td>\n",
              "      <td>0.000000</td>\n",
              "      <td>0.237812</td>\n",
              "      <td>0.665874</td>\n",
              "      <td>0.096314</td>\n",
              "    </tr>\n",
              "    <tr>\n",
              "      <th>25</th>\n",
              "      <td>1.0</td>\n",
              "      <td>0.000000</td>\n",
              "      <td>0.000000</td>\n",
              "      <td>0.152200</td>\n",
              "      <td>0.646849</td>\n",
              "      <td>0.200951</td>\n",
              "    </tr>\n",
              "    <tr>\n",
              "      <th>26</th>\n",
              "      <td>1.0</td>\n",
              "      <td>0.000000</td>\n",
              "      <td>0.000000</td>\n",
              "      <td>0.085612</td>\n",
              "      <td>0.570749</td>\n",
              "      <td>0.343639</td>\n",
              "    </tr>\n",
              "    <tr>\n",
              "      <th>27</th>\n",
              "      <td>1.0</td>\n",
              "      <td>0.000000</td>\n",
              "      <td>0.000000</td>\n",
              "      <td>0.038050</td>\n",
              "      <td>0.437574</td>\n",
              "      <td>0.524376</td>\n",
              "    </tr>\n",
              "    <tr>\n",
              "      <th>28</th>\n",
              "      <td>1.0</td>\n",
              "      <td>0.000000</td>\n",
              "      <td>0.000000</td>\n",
              "      <td>0.009512</td>\n",
              "      <td>0.247325</td>\n",
              "      <td>0.743163</td>\n",
              "    </tr>\n",
              "    <tr>\n",
              "      <th>29</th>\n",
              "      <td>1.0</td>\n",
              "      <td>0.000000</td>\n",
              "      <td>0.000000</td>\n",
              "      <td>0.000000</td>\n",
              "      <td>0.000000</td>\n",
              "      <td>1.000000</td>\n",
              "    </tr>\n",
              "  </tbody>\n",
              "</table>\n",
              "</div>"
            ],
            "text/plain": [
              "    Intercept  ...  bs(train, knots=[-0.5, 0, 0.5], degree=2, include_intercept=False)[4]\n",
              "0         1.0  ...                                           0.000000                    \n",
              "1         1.0  ...                                           0.000000                    \n",
              "2         1.0  ...                                           0.000000                    \n",
              "3         1.0  ...                                           0.000000                    \n",
              "4         1.0  ...                                           0.000000                    \n",
              "5         1.0  ...                                           0.000000                    \n",
              "6         1.0  ...                                           0.000000                    \n",
              "7         1.0  ...                                           0.000000                    \n",
              "8         1.0  ...                                           0.000000                    \n",
              "9         1.0  ...                                           0.000000                    \n",
              "10        1.0  ...                                           0.000000                    \n",
              "11        1.0  ...                                           0.000000                    \n",
              "12        1.0  ...                                           0.000000                    \n",
              "13        1.0  ...                                           0.000000                    \n",
              "14        1.0  ...                                           0.000000                    \n",
              "15        1.0  ...                                           0.000000                    \n",
              "16        1.0  ...                                           0.000000                    \n",
              "17        1.0  ...                                           0.000000                    \n",
              "18        1.0  ...                                           0.000000                    \n",
              "19        1.0  ...                                           0.000000                    \n",
              "20        1.0  ...                                           0.000000                    \n",
              "21        1.0  ...                                           0.000000                    \n",
              "22        1.0  ...                                           0.001189                    \n",
              "23        1.0  ...                                           0.029727                    \n",
              "24        1.0  ...                                           0.096314                    \n",
              "25        1.0  ...                                           0.200951                    \n",
              "26        1.0  ...                                           0.343639                    \n",
              "27        1.0  ...                                           0.524376                    \n",
              "28        1.0  ...                                           0.743163                    \n",
              "29        1.0  ...                                           1.000000                    \n",
              "\n",
              "[30 rows x 6 columns]"
            ]
          },
          "metadata": {
            "tags": []
          },
          "execution_count": 13
        }
      ]
    },
    {
      "cell_type": "code",
      "metadata": {
        "id": "p8YxI9VPENMy",
        "colab_type": "code",
        "colab": {
          "base_uri": "https://localhost:8080/",
          "height": 227
        },
        "outputId": "d1bd8db8-75b7-4ed6-84d0-8bb8da5ef945"
      },
      "source": [
        "# Fitting Generalised linear models\n",
        "SplineL = sm.GLM(y, Ttmpx).fit()\n",
        "SplineL.conf_int ()"
      ],
      "execution_count": 14,
      "outputs": [
        {
          "output_type": "execute_result",
          "data": {
            "text/html": [
              "<div>\n",
              "<style scoped>\n",
              "    .dataframe tbody tr th:only-of-type {\n",
              "        vertical-align: middle;\n",
              "    }\n",
              "\n",
              "    .dataframe tbody tr th {\n",
              "        vertical-align: top;\n",
              "    }\n",
              "\n",
              "    .dataframe thead th {\n",
              "        text-align: right;\n",
              "    }\n",
              "</style>\n",
              "<table border=\"1\" class=\"dataframe\">\n",
              "  <thead>\n",
              "    <tr style=\"text-align: right;\">\n",
              "      <th></th>\n",
              "      <th>0</th>\n",
              "      <th>1</th>\n",
              "    </tr>\n",
              "  </thead>\n",
              "  <tbody>\n",
              "    <tr>\n",
              "      <th>Intercept</th>\n",
              "      <td>0.009902</td>\n",
              "      <td>0.535506</td>\n",
              "    </tr>\n",
              "    <tr>\n",
              "      <th>bs(train, knots=[-0.5, 0, 0.5], degree=2, include_intercept=False)[0]</th>\n",
              "      <td>-0.859964</td>\n",
              "      <td>0.055944</td>\n",
              "    </tr>\n",
              "    <tr>\n",
              "      <th>bs(train, knots=[-0.5, 0, 0.5], degree=2, include_intercept=False)[1]</th>\n",
              "      <td>0.397530</td>\n",
              "      <td>1.022724</td>\n",
              "    </tr>\n",
              "    <tr>\n",
              "      <th>bs(train, knots=[-0.5, 0, 0.5], degree=2, include_intercept=False)[2]</th>\n",
              "      <td>0.356248</td>\n",
              "      <td>1.081655</td>\n",
              "    </tr>\n",
              "    <tr>\n",
              "      <th>bs(train, knots=[-0.5, 0, 0.5], degree=2, include_intercept=False)[3]</th>\n",
              "      <td>-0.654958</td>\n",
              "      <td>0.097801</td>\n",
              "    </tr>\n",
              "    <tr>\n",
              "      <th>bs(train, knots=[-0.5, 0, 0.5], degree=2, include_intercept=False)[4]</th>\n",
              "      <td>-0.456746</td>\n",
              "      <td>0.292413</td>\n",
              "    </tr>\n",
              "  </tbody>\n",
              "</table>\n",
              "</div>"
            ],
            "text/plain": [
              "                                                           0         1\n",
              "Intercept                                           0.009902  0.535506\n",
              "bs(train, knots=[-0.5, 0, 0.5], degree=2, inclu... -0.859964  0.055944\n",
              "bs(train, knots=[-0.5, 0, 0.5], degree=2, inclu...  0.397530  1.022724\n",
              "bs(train, knots=[-0.5, 0, 0.5], degree=2, inclu...  0.356248  1.081655\n",
              "bs(train, knots=[-0.5, 0, 0.5], degree=2, inclu... -0.654958  0.097801\n",
              "bs(train, knots=[-0.5, 0, 0.5], degree=2, inclu... -0.456746  0.292413"
            ]
          },
          "metadata": {
            "tags": []
          },
          "execution_count": 14
        }
      ]
    },
    {
      "cell_type": "code",
      "metadata": {
        "id": "GiJ3TcNqEmp4",
        "colab_type": "code",
        "colab": {}
      },
      "source": [
        "# Predicting new examples, remember we need to do the same transformation of data\n",
        "\n",
        "X_new = dmatrix(\"bs(train, knots=[-0.5, 0, 0.5], degree=2, include_intercept=False)\",\n",
        "                {\"train\": tmpx},return_type='dataframe')                                       \n",
        "pred2 = SplineL.predict(X_new)\n"
      ],
      "execution_count": 0,
      "outputs": []
    },
    {
      "cell_type": "code",
      "metadata": {
        "id": "xVGRvMyWEoJD",
        "colab_type": "code",
        "colab": {
          "base_uri": "https://localhost:8080/",
          "height": 351
        },
        "outputId": "754ce811-6fd5-446d-aef1-d98bfa9a93ba"
      },
      "source": [
        "# Visualisation\n",
        "plt.figure(figsize=(10,5))\n",
        "plt.title('Piecewise Constant', fontsize=14)\n",
        "\n",
        "# Scatter plot with polynomial regression line\n",
        "plt.scatter(tmpx, y, c='m')\n",
        "plt.plot(tmpx, pred2, c='g')\n",
        "\n",
        "plt.xlabel('X')\n",
        "plt.ylabel('Y')\n",
        "plt.show()"
      ],
      "execution_count": 16,
      "outputs": [
        {
          "output_type": "display_data",
          "data": {
            "image/png": "[encoded data removed]",
            "text/plain": [
              "<Figure size 720x360 with 1 Axes>"
            ]
          },
          "metadata": {
            "tags": []
          }
        }
      ]
    }
  ]
}