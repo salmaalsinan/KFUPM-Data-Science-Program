{
 "cells": [
  {
   "cell_type": "code",
   "execution_count": null,
   "metadata": {},
   "outputs": [],
   "source": [
    "#https://scikit-learn.org/stable/auto_examples/svm/plot_separating_hyperplane.html\n",
    "#https://scikit-learn.org/0.15/auto_examples/svm/plot_separating_hyperplane.html\n",
    "def plot_decisionline(model, X, y, title='Decision Line on Training Data'):\n",
    "  \n",
    "  # ploting the decision line\n",
    "  plt.scatter (X[y==0,0],X[y==0,1], marker='^',facecolors='none', color='r',s=100)\n",
    "  plt.scatter (X[y==1,0],X[y==1,1], marker='o', color='k',facecolors='none', s=100)\n",
    "\n",
    "  # plot the decision function\n",
    "  ax = plt.gca()\n",
    "  xlim = ax.get_xlim()\n",
    "  ylim = ax.get_ylim()\n",
    "\n",
    "  # create grid to evaluate model\n",
    "  xx = np.linspace(xlim[0], xlim[1], len(X[:,0]))\n",
    "  yy = np.linspace(ylim[0], ylim[1], len(X[:,0]))\n",
    "  YY, XX = np.meshgrid(yy, xx)\n",
    "\n",
    "  # Stack the grid points together to control the whole space\n",
    "  xy = np.vstack([XX.ravel(), YY.ravel()]).T\n",
    "\n",
    "  # use the trained model to classifier the grid points and reshape them using XX matrix\n",
    "  Z = model.decision_function(xy).reshape(XX.shape)\n",
    "\n",
    "  # plot decision line and margins\n",
    "  cs1 = ax.contour(XX, YY, Z, colors='k', levels=[ 0 ], alpha=0.5, linestyles=['--'])\n",
    " \n",
    "  plt.xlabel('feature 1')\n",
    "  plt.ylabel('feature 2')\n",
    "  plt.title(title)\n",
    "  plt.axis('tight')\n",
    "  plt.show()"
   ]
  }
 ],
 "metadata": {
  "kernelspec": {
   "display_name": "Python 3",
   "language": "python",
   "name": "python3"
  },
  "language_info": {
   "codemirror_mode": {
    "name": "ipython",
    "version": 3
   },
   "file_extension": ".py",
   "mimetype": "text/x-python",
   "name": "python",
   "nbconvert_exporter": "python",
   "pygments_lexer": "ipython3",
   "version": "3.6.7"
  }
 },
 "nbformat": 4,
 "nbformat_minor": 2
}
